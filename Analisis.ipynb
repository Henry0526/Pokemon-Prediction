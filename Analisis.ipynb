{
 "cells": [
  {
   "cell_type": "markdown",
   "metadata": {},
   "source": [
    "# [Pokemon](https://www.kaggle.com/abcsds/pokemon/kernels)"
   ]
  },
  {
   "cell_type": "code",
   "execution_count": 1,
   "metadata": {
    "collapsed": false
   },
   "outputs": [
    {
     "data": {
      "text/plain": [
       "<matplotlib.collections.PathCollection at 0x12c67310>"
      ]
     },
     "execution_count": 1,
     "metadata": {},
     "output_type": "execute_result"
    }
   ],
   "source": [
    "import numpy as np\n",
    "import matplotlib.pyplot as plt\n",
    "import pandas as pd\n",
    "import seaborn as sns\n",
    "\n",
    "\n",
    "\n",
    "data_frame = pd.read_csv(\"data sets/Pokemon.csv\")\n",
    "\n",
    "data_frame = data_frame.drop(\"Type 2\",axis=1).drop(\"Legendary\",axis=1).drop(\"Name\",axis=1).drop(\"#\",axis=1)\n",
    "\n",
    "col_header = list(data_frame)\n",
    "\n",
    "plt.figure(figsize=(20,10),dpi=300)\n",
    "plt.scatter(data_frame['HP'],data_frame['Total'],linewidths=1,marker=\".\")\n",
    "#plt.savefig(\"s.jpg\",dpi=3000)\n",
    "#plt.show()\n",
    "\n",
    "\n",
    "\n",
    "# Name: Name of each pokemon\n",
    "# Type 1: Each pokemon has a type, this determines weakness/resistance to attacks\n",
    "# Type 2: Some pokemon are dual type and have 2\n",
    "# Total: sum of all stats that come after this, a general guide to how strong a pokemon is\n",
    "# HP: hit points, or health, defines how much damage a pokemon can withstand before fainting\n",
    "# Attack: the base modifier for normal attacks (eg. Scratch, Punch)\n",
    "# Defense: the base damage resistance against normal attacks\n",
    "# SP Atk: special attack, the base modifier for special attacks (e.g. fire blast, bubble beam)\n",
    "# SP Def: the base damage resistance against special attacks\n",
    "# Speed: determines which pokemon attacks first each round\n"
   ]
  },
  {
   "cell_type": "code",
   "execution_count": 2,
   "metadata": {
    "collapsed": false
   },
   "outputs": [
    {
     "data": {
      "text/plain": [
       "<matplotlib.text.Text at 0x12d13810>"
      ]
     },
     "execution_count": 2,
     "metadata": {},
     "output_type": "execute_result"
    }
   ],
   "source": [
    "\n",
    "jet=plt.get_cmap('coolwarm')\n",
    "\n",
    "\n",
    "kinds = data_frame[\"Type 1\"]\n",
    "kinds = kinds.unique()[0:3]\n",
    "\n",
    "for k in kinds:\n",
    "    X = data_frame.loc[data_frame[\"Type 1\"]==k]['HP']\n",
    "    Y = data_frame.loc[data_frame[\"Type 1\"]==k]['Attack']\n",
    "    if k == 'Water':\n",
    "        plt.scatter(x=X, y=Y, c=\"Blue\")\n",
    "    elif k==\"Grass\":\n",
    "        plt.scatter(x=X, y=Y, c=\"Green\")\n",
    "    elif k==\"Fire\":\n",
    "        plt.scatter(x=X, y=Y, c=\"Red\")\n",
    "    else:\n",
    "        plt.scatter(x=X, y=Y, cmap=jet)\n",
    "\n",
    "plt.legend(kinds,loc='upper right')\n",
    "plt.title(\"Kind   Attack  V.S  HP\")\n",
    "plt.xlabel(\"HP\")\n",
    "plt.ylabel(\"Attack\")\n",
    "#plt.show()"
   ]
  },
  {
   "cell_type": "code",
   "execution_count": 3,
   "metadata": {
    "collapsed": false
   },
   "outputs": [
    {
     "data": {
      "text/plain": [
       "DecisionTreeClassifier(class_weight=None, criterion='gini', max_depth=None,\n",
       "            max_features=None, max_leaf_nodes=None,\n",
       "            min_impurity_split=1e-07, min_samples_leaf=1,\n",
       "            min_samples_split=2, min_weight_fraction_leaf=0.0,\n",
       "            presort=False, random_state=None, splitter='best')"
      ]
     },
     "execution_count": 3,
     "metadata": {},
     "output_type": "execute_result"
    }
   ],
   "source": [
    "from sklearn import tree\n",
    "\n",
    "col_header # Header of data_frame Name\n",
    "train_split = 550\n",
    "\n",
    "train_data  = data_frame.loc[:,col_header[2:-1]][0:train_split]\n",
    "train_label = data_frame.loc[:,'Type 1'][0:train_split]\n",
    "\n",
    "clf = tree.DecisionTreeClassifier()\n",
    "clf.fit(train_data,train_label)\n",
    "\n",
    "\n",
    "\n",
    "#print \"預測的 : \\n\",clf.predict(data_frame.loc[:,col_header[2:-1]][550:560])\n",
    "#print \"正確的 : \\n\",list(data_frame.loc[:,'Type 1'][550:560])\n"
   ]
  },
  {
   "cell_type": "code",
   "execution_count": 4,
   "metadata": {
    "collapsed": false
   },
   "outputs": [
    {
     "data": {
      "text/plain": [
       "GaussianNB(priors=None)"
      ]
     },
     "execution_count": 4,
     "metadata": {},
     "output_type": "execute_result"
    }
   ],
   "source": [
    "from sklearn.naive_bayes import GaussianNB\n",
    "\n",
    "\n",
    "clf = GaussianNB()\n",
    "clf.fit(train_data,train_label)\n",
    "\n",
    "\n",
    "#print \"預測的 : \\n\",clf.predict(data_frame.loc[:,col_header[2:-1]][550:560])\n",
    "#print \"正確的 : \\n\",list(data_frame.loc[:,'Type 1'][550:560])"
   ]
  },
  {
   "cell_type": "markdown",
   "metadata": {},
   "source": [
    "### 交叉創建圖表"
   ]
  },
  {
   "cell_type": "code",
   "execution_count": 5,
   "metadata": {
    "collapsed": false
   },
   "outputs": [],
   "source": [
    "df = pd.read_csv(\"data sets/Pokemon.csv\").drop(\"Total\",axis=1).drop(\"Legendary\",axis=1).drop(\"Generation\",axis=1).drop(\"#\",axis=1).drop(\"Type 2\",axis=1)\n",
    "df = df.drop(\"Name\",axis=1)\n",
    "\n",
    "#df[\"Type 1\"].rank(axis=0)\n",
    "# 這樣就可以給圖片一個編號了\n",
    "plt.figure(36)\n",
    "sns.pairplot(df)\n",
    "# 儲存\n",
    "plt.savefig(\"./Data Image/Pairplot\",dpi=500)\n",
    "# 不要忘記要加上show()才會顯示\n",
    "#plt.show()"
   ]
  },
  {
   "cell_type": "code",
   "execution_count": 6,
   "metadata": {
    "collapsed": false,
    "scrolled": false
   },
   "outputs": [
    {
     "data": {
      "text/plain": [
       "<matplotlib.legend.Legend at 0x14f8cc50>"
      ]
     },
     "execution_count": 6,
     "metadata": {},
     "output_type": "execute_result"
    }
   ],
   "source": [
    "df = pd.read_csv(\"data sets/Pokemon.csv\").drop(\"Total\",axis=1).drop(\"Legendary\",axis=1).drop(\"Generation\",axis=1).drop(\"#\",axis=1).drop(\"Type 2\",axis=1)\n",
    "df = df.drop(\"Name\",axis=1)\n",
    "\n",
    "\n",
    "kinds = df['Type 1'].unique()\n",
    "HP = df['HP']\n",
    "\n",
    "\n",
    "# 給圖片編號和大小\n",
    "plt.figure(5,figsize=(18,8))\n",
    "# 就是 title\n",
    "plt.title(\"Kinds VS HP\",fontdict={'fontsize':25})\n",
    "# 可以設定 ticks 的文字參數\n",
    "plt.tick_params(axis='both',labelsize=15)\n",
    "# 讓兩旁多一點空間，設定 最小是0 最大是 陣列的長度\n",
    "plt.xlim( ( 0-1, len(kinds) ) )\n",
    "# 幫X軸放上我要的文字陣列\n",
    "plt.xticks(xrange(len(kinds)),kinds,rotation=20)\n",
    "# X軸 Label 的文字\n",
    "plt.xlabel(\"Every Kinds in the Table\",fontdict={'fontsize':20})\n",
    "\n",
    "plt.ylim( (HP.min()-10,HP.max()+10) )\n",
    "plt.ylabel(\"HP\",fontdict={\"fontsize\":20},rotation=0)\n",
    "\n",
    "set3 = plt.get_cmap(\"Set3\")\n",
    "\n",
    "for i,k in enumerate(kinds):\n",
    "    Y = data_frame.loc[data_frame[\"Type 1\"]==k]['HP']\n",
    "    X = np.full((len(Y)),i,dtype=float)\n",
    "    \n",
    "    plt.scatter(x=X,y=Y,cmap=set3,marker='o')\n",
    "\n",
    "\n",
    "\n",
    "\n",
    "plt.legend(kinds,loc=\"upper right\")\n",
    "#plt.savefig(\"./Data Image/Kind_vs_HP_withAllkinds_300.jpg\",dpi=300)\n",
    "#plt.show()\n"
   ]
  },
  {
   "cell_type": "code",
   "execution_count": 7,
   "metadata": {
    "collapsed": false,
    "scrolled": true
   },
   "outputs": [],
   "source": [
    "df = pd.read_csv(\"data sets/Pokemon.csv\").drop(\"Total\",axis=1).drop(\"Legendary\",axis=1).drop(\"Generation\",axis=1).drop(\"#\",axis=1).drop(\"Type 2\",axis=1)\n",
    "df = df.drop(\"Name\",axis=1)\n",
    "\n",
    "attribute = list(df.columns[1:])\n",
    "kinds = df['Type 1'].unique()\n",
    "\n",
    "for fig_num,attr in enumerate(attribute):\n",
    "    \n",
    "    title_name = \"Kinds VS \" + str(attr)\n",
    "    attr_sel = df[attr]\n",
    "    \n",
    "    \n",
    "    plt.figure(fig_num+10,figsize=(18,8))\n",
    "    plt.title(title_name,fontdict={'fontsize':25})\n",
    "    plt.tick_params(axis='both',labelsize=15)\n",
    "    plt.xlim( ( 0-1, len(kinds) ) )\n",
    "    plt.xticks(xrange(len(kinds)),kinds,rotation=20)\n",
    "    plt.xlabel(\"Every Kinds in the Table\",fontdict={'fontsize':20})\n",
    "    \n",
    "    plt.ylim( (attr_sel.min()-10,attr_sel.max()+10) )\n",
    "    plt.ylabel(attr,fontdict={\"fontsize\":20},rotation=0)\n",
    "    \n",
    "    for i,k in enumerate(kinds):\n",
    "        Y = data_frame.loc[data_frame[\"Type 1\"]==k]['HP']\n",
    "        X = np.full((len(Y)),i,dtype=float)\n",
    "        \n",
    "        plt.scatter(x=X,y=Y,cmap=\"Set3\",marker='o')\n",
    "\n",
    "        \n",
    "    plt.legend(kinds,loc=\"upper right\")\n",
    "    #plt.savefig(\"./Data Image/All Kinds Scatter/Normal/\"+str(attr)+\".jpg\",dpi=300)\n",
    "    #plt.savefig(\"./Data Image/All Kinds Scatter/Average Line/\"+str(attr)+\".jpg\",dpi=300)\n",
    "    #plt.show()\n"
   ]
  },
  {
   "cell_type": "markdown",
   "metadata": {},
   "source": [
    "## 繪出所有的屬性對於每一個系的神奇寶貝的 Boxplot"
   ]
  },
  {
   "cell_type": "code",
   "execution_count": 8,
   "metadata": {
    "collapsed": false,
    "scrolled": true
   },
   "outputs": [],
   "source": [
    "df = pd.read_csv(\"data sets/Pokemon.csv\").drop(\"Total\",axis=1).drop(\"Legendary\",axis=1).drop(\"Generation\",axis=1).drop(\"#\",axis=1).drop(\"Type 2\",axis=1)\n",
    "df = df.drop(\"Name\",axis=1)\n",
    "\n",
    "attribute = list(df.columns[1:])\n",
    "kinds = df['Type 1'].unique()\n",
    "\n",
    "for fig_num,attr in enumerate(attribute):\n",
    "    \n",
    "    title_name = \"Kinds VS \" + str(attr)\n",
    "    attr_sel = df[attr]\n",
    "    \n",
    "    plt.figure(fig_num+10,figsize=(18,8))\n",
    "    plt.title(title_name,fontdict={'fontsize':25})\n",
    "    plt.tick_params(axis='both',labelsize=15)\n",
    "    plt.xlim( ( 0-1, len(kinds) ) )\n",
    "    plt.xticks(xrange(len(kinds)),kinds,rotation=20)\n",
    "    plt.xlabel(\"Every Kinds in the Table\",fontdict={'fontsize':20})\n",
    "    \n",
    "    plt.ylim( (attr_sel.min()-10,attr_sel.max()+10) )\n",
    "    plt.ylabel(attr,fontdict={\"fontsize\":20},rotation=0)\n",
    "    \n",
    "    \n",
    "    X = np.full((len(Y)),i,dtype=float)\n",
    "    All_to_plot = []\n",
    "    for i,k in enumerate(kinds):\n",
    "        Y = data_frame.loc[data_frame[\"Type 1\"]==k]['HP']\n",
    "        All_to_plot.append(Y)\n",
    "        \n",
    "    \n",
    "    # 要加上 positions=xrange(0,len(kinds)) 因為它內建的是1開頭 所以要位移回來\n",
    "    bp = plt.boxplot(All_to_plot,sym='ob',positions=xrange(0,len(kinds)),patch_artist=True)\n",
    "    for flier in bp['fliers']:\n",
    "        flier.set(marker='o', color='#e7298a', alpha=0.5)\n",
    "    \n",
    "    plt.xticks(xrange(0, len(kinds)),kinds,rotation=20)\n",
    "    #plt.legend(kinds,loc=\"upper right\")\n",
    "    #plt.savefig(\"./Data Image/BoxPlots/\"+str(attr)+\".jpg\",dpi=300)\n",
    "    #plt.show()"
   ]
  },
  {
   "cell_type": "markdown",
   "metadata": {},
   "source": [
    "## 底下這是測試版本的 Boxplot"
   ]
  },
  {
   "cell_type": "code",
   "execution_count": 15,
   "metadata": {
    "collapsed": false
   },
   "outputs": [],
   "source": [
    "df = pd.read_csv(\"data sets/Pokemon.csv\").drop(\"Total\",axis=1).drop(\"Legendary\",axis=1).drop(\"Generation\",axis=1).drop(\"#\",axis=1).drop(\"Type 2\",axis=1)\n",
    "df = df.drop(\"Name\",axis=1)\n",
    "\n",
    "attribute = list(df.columns[1:])\n",
    "kinds = df['Type 1'].unique()\n",
    "\n",
    "X = np.full((len(Y)),i,dtype=float)\n",
    "All_to_plot = []\n",
    "\n",
    "plt.close(\"all\")\n",
    "plt.figure()\n",
    "\n",
    "for i,k in enumerate(kinds):\n",
    "    Y = data_frame.loc[data_frame[\"Type 1\"]==k]['HP']\n",
    "    All_to_plot.append(Y)\n",
    "    \n",
    "bp = plt.boxplot(All_to_plot,sym='ob',positions=xrange(0,len(kinds)),patch_artist=True)\n",
    "for flier in bp['fliers']:\n",
    "    flier.set(marker='o', color='#e7298a', alpha=0.5)\n",
    " \n",
    "#plt.show()\n"
   ]
  }
 ],
 "metadata": {
  "kernelspec": {
   "display_name": "Python 2",
   "language": "python",
   "name": "python2"
  },
  "language_info": {
   "codemirror_mode": {
    "name": "ipython",
    "version": 2
   },
   "file_extension": ".py",
   "mimetype": "text/x-python",
   "name": "python",
   "nbconvert_exporter": "python",
   "pygments_lexer": "ipython2",
   "version": "2.7.12"
  }
 },
 "nbformat": 4,
 "nbformat_minor": 2
}
